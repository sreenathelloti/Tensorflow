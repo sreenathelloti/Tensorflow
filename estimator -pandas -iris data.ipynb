{
 "cells": [
  {
   "cell_type": "code",
   "execution_count": 1,
   "metadata": {
    "collapsed": true
   },
   "outputs": [],
   "source": [
    "import numpy as np\n",
    "import tensorflow as tf "
   ]
  },
  {
   "cell_type": "code",
   "execution_count": 2,
   "metadata": {
    "collapsed": true
   },
   "outputs": [],
   "source": [
    "import pandas as pd"
   ]
  },
  {
   "cell_type": "code",
   "execution_count": 3,
   "metadata": {
    "collapsed": true
   },
   "outputs": [],
   "source": [
    "# Data sets\n",
    "IRIS_TRAINING = \"iris_training.csv\"\n",
    "IRIS_TRAINING_URL = \"http://download.tensorflow.org/data/iris_training.csv\"\n",
    "\n",
    "IRIS_TEST = \"iris_test.csv\"\n",
    "IRIS_TEST_URL = \"http://download.tensorflow.org/data/iris_test.csv\""
   ]
  },
  {
   "cell_type": "code",
   "execution_count": 5,
   "metadata": {
    "collapsed": true
   },
   "outputs": [],
   "source": [
    "import os\n",
    "from six.moves.urllib.request import urlopen"
   ]
  },
  {
   "cell_type": "code",
   "execution_count": 13,
   "metadata": {
    "collapsed": true
   },
   "outputs": [],
   "source": [
    "\n",
    "  # If the training and test sets aren't stored locally, download them.\n",
    "if not os.path.exists(IRIS_TRAINING):\n",
    "    raw = urlopen(IRIS_TRAINING_URL).read()\n",
    "    with open(IRIS_TRAINING, \"wb\") as f:\n",
    "        f.write(raw)\n",
    "if not os.path.exists(IRIS_TEST):\n",
    "    raw = urlopen(IRIS_TEST_URL).read()\n",
    "    with open(IRIS_TEST, \"wb\") as f:\n",
    "        f.write(raw)"
   ]
  },
  {
   "cell_type": "code",
   "execution_count": 14,
   "metadata": {
    "collapsed": false
   },
   "outputs": [],
   "source": [
    "#loading data sets\n",
    "training_set=tf.contrib.learn.datasets.base.load_csv_with_header(filename=IRIS_TRAINING,\n",
    "      target_dtype=np.int,\n",
    "      features_dtype=np.float32)\n",
    "test_set = tf.contrib.learn.datasets.base.load_csv_with_header(filename=IRIS_TEST,\n",
    "      target_dtype=np.int,\n",
    "      features_dtype=np.float32)"
   ]
  },
  {
   "cell_type": "code",
   "execution_count": 78,
   "metadata": {
    "collapsed": false
   },
   "outputs": [],
   "source": [
    "# Specify that all features have real-value data\n",
    "feature_columns = [tf.feature_column.numeric_column(str(x))for x in range(training_set.data.shape[1])]\n"
   ]
  },
  {
   "cell_type": "code",
   "execution_count": 79,
   "metadata": {
    "collapsed": false
   },
   "outputs": [
    {
     "name": "stdout",
     "output_type": "stream",
     "text": [
      "INFO:tensorflow:Using default config.\n",
      "INFO:tensorflow:Using config: {'_tf_random_seed': 1, '_session_config': None, '_save_checkpoints_steps': None, '_save_checkpoints_secs': 600, '_keep_checkpoint_every_n_hours': 10000, '_model_dir': '/tmp/iris_model1', '_log_step_count_steps': 100, '_keep_checkpoint_max': 5, '_save_summary_steps': 100}\n"
     ]
    }
   ],
   "source": [
    "classifier=tf.estimator.DNNClassifier(feature_columns=feature_columns,hidden_units=[10, 20, 10],n_classes=3,\n",
    "                                     model_dir=\"/tmp/iris_model1\")"
   ]
  },
  {
   "cell_type": "code",
   "execution_count": 80,
   "metadata": {
    "collapsed": false
   },
   "outputs": [],
   "source": [
    "# Define the training inputs\n",
    "train_input_fn = tf.estimator.inputs.pandas_input_fn(\n",
    "      x=pd.DataFrame({str(k): training_set.data[:,k] for k in range(training_set.data.shape[1])}),\n",
    "      y=pd.Series(training_set.target),\n",
    "      num_epochs=None,\n",
    "      shuffle=True)"
   ]
  },
  {
   "cell_type": "code",
   "execution_count": 81,
   "metadata": {
    "collapsed": false
   },
   "outputs": [],
   "source": [
    "x=pd.DataFrame({k: training_set.data[:,k] for k in range(training_set.data.shape[1])})"
   ]
  },
  {
   "cell_type": "code",
   "execution_count": 82,
   "metadata": {
    "collapsed": false
   },
   "outputs": [
    {
     "name": "stdout",
     "output_type": "stream",
     "text": [
      "INFO:tensorflow:Create CheckpointSaverHook.\n",
      "INFO:tensorflow:Saving checkpoints for 1 into /tmp/iris_model1\\model.ckpt.\n",
      "INFO:tensorflow:loss = 178.999, step = 1\n",
      "INFO:tensorflow:global_step/sec: 310.839\n",
      "INFO:tensorflow:loss = 12.7561, step = 101 (0.330 sec)\n",
      "INFO:tensorflow:global_step/sec: 331.161\n",
      "INFO:tensorflow:loss = 9.08999, step = 201 (0.302 sec)\n",
      "INFO:tensorflow:global_step/sec: 333.959\n",
      "INFO:tensorflow:loss = 5.99924, step = 301 (0.299 sec)\n",
      "INFO:tensorflow:global_step/sec: 328.928\n",
      "INFO:tensorflow:loss = 6.10567, step = 401 (0.304 sec)\n",
      "INFO:tensorflow:global_step/sec: 311.436\n",
      "INFO:tensorflow:loss = 9.30511, step = 501 (0.305 sec)\n",
      "INFO:tensorflow:global_step/sec: 332.846\n",
      "INFO:tensorflow:loss = 3.76713, step = 601 (0.316 sec)\n",
      "INFO:tensorflow:global_step/sec: 317.233\n",
      "INFO:tensorflow:loss = 8.52668, step = 701 (0.300 sec)\n",
      "INFO:tensorflow:global_step/sec: 323.153\n",
      "INFO:tensorflow:loss = 2.35751, step = 801 (0.309 sec)\n",
      "INFO:tensorflow:global_step/sec: 333.549\n",
      "INFO:tensorflow:loss = 6.19052, step = 901 (0.315 sec)\n",
      "INFO:tensorflow:global_step/sec: 315.135\n",
      "INFO:tensorflow:loss = 5.71126, step = 1001 (0.302 sec)\n",
      "INFO:tensorflow:global_step/sec: 324.979\n",
      "INFO:tensorflow:loss = 9.97067, step = 1101 (0.323 sec)\n",
      "INFO:tensorflow:global_step/sec: 326.079\n",
      "INFO:tensorflow:loss = 5.05403, step = 1201 (0.307 sec)\n",
      "INFO:tensorflow:global_step/sec: 313.745\n",
      "INFO:tensorflow:loss = 8.75001, step = 1301 (0.303 sec)\n",
      "INFO:tensorflow:global_step/sec: 321.56\n",
      "INFO:tensorflow:loss = 5.3346, step = 1401 (0.311 sec)\n",
      "INFO:tensorflow:global_step/sec: 321.143\n",
      "INFO:tensorflow:loss = 10.1112, step = 1501 (0.311 sec)\n",
      "INFO:tensorflow:global_step/sec: 303.529\n",
      "INFO:tensorflow:loss = 7.91492, step = 1601 (0.342 sec)\n",
      "INFO:tensorflow:global_step/sec: 186.087\n",
      "INFO:tensorflow:loss = 5.14126, step = 1701 (0.532 sec)\n",
      "INFO:tensorflow:global_step/sec: 311.977\n",
      "INFO:tensorflow:loss = 8.42984, step = 1801 (0.313 sec)\n",
      "INFO:tensorflow:global_step/sec: 332.44\n",
      "INFO:tensorflow:loss = 6.24622, step = 1901 (0.316 sec)\n",
      "INFO:tensorflow:Saving checkpoints for 2000 into /tmp/iris_model1\\model.ckpt.\n",
      "INFO:tensorflow:Loss for final step: 10.0306.\n"
     ]
    },
    {
     "data": {
      "text/plain": [
       "<tensorflow.python.estimator.canned.dnn.DNNClassifier at 0x1ba70f46668>"
      ]
     },
     "execution_count": 82,
     "metadata": {},
     "output_type": "execute_result"
    }
   ],
   "source": [
    "classifier.train(input_fn=train_input_fn, steps=2000)"
   ]
  },
  {
   "cell_type": "code",
   "execution_count": null,
   "metadata": {
    "collapsed": true
   },
   "outputs": [],
   "source": []
  }
 ],
 "metadata": {
  "kernelspec": {
   "display_name": "Python [conda root]",
   "language": "python",
   "name": "conda-root-py"
  },
  "language_info": {
   "codemirror_mode": {
    "name": "ipython",
    "version": 3
   },
   "file_extension": ".py",
   "mimetype": "text/x-python",
   "name": "python",
   "nbconvert_exporter": "python",
   "pygments_lexer": "ipython3",
   "version": "3.5.2"
  }
 },
 "nbformat": 4,
 "nbformat_minor": 1
}
