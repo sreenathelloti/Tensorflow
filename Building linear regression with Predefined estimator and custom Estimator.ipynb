{
 "cells": [
  {
   "cell_type": "code",
   "execution_count": 1,
   "metadata": {
    "collapsed": true
   },
   "outputs": [],
   "source": [
    "import tensorflow as tf"
   ]
  },
  {
   "cell_type": "code",
   "execution_count": 10,
   "metadata": {
    "collapsed": true
   },
   "outputs": [],
   "source": [
    "#declare the list of feature\n",
    "feature_columns=[tf.feature_column.numeric_column(\"x\",shape=[1])]"
   ]
  },
  {
   "cell_type": "code",
   "execution_count": 11,
   "metadata": {
    "collapsed": false
   },
   "outputs": [
    {
     "name": "stdout",
     "output_type": "stream",
     "text": [
      "INFO:tensorflow:Using default config.\n",
      "WARNING:tensorflow:Using temporary folder as model directory: C:\\Users\\SREENATH\\AppData\\Local\\Temp\\tmp9kvdgflt\n",
      "INFO:tensorflow:Using config: {'_save_summary_steps': 100, '_tf_random_seed': 1, '_save_checkpoints_steps': None, '_save_checkpoints_secs': 600, '_keep_checkpoint_max': 5, '_log_step_count_steps': 100, '_model_dir': 'C:\\\\Users\\\\SREENATH\\\\AppData\\\\Local\\\\Temp\\\\tmp9kvdgflt', '_keep_checkpoint_every_n_hours': 10000, '_session_config': None}\n"
     ]
    }
   ],
   "source": [
    "#creating estimators\n",
    "regressor=tf.estimator.LinearRegressor(feature_columns=feature_columns)"
   ]
  },
  {
   "cell_type": "code",
   "execution_count": 12,
   "metadata": {
    "collapsed": false
   },
   "outputs": [],
   "source": [
    "import numpy as np\n",
    "x_train = np.array([1., 2., 3., 4.])\n",
    "y_train = np.array([0., -1., -2., -3.])\n",
    "x_eval = np.array([2., 5., 8., 1.])\n",
    "y_eval = np.array([-1.01, -4.1, -7, 0.])"
   ]
  },
  {
   "cell_type": "code",
   "execution_count": 13,
   "metadata": {
    "collapsed": true
   },
   "outputs": [],
   "source": [
    "#reading the data from numpy data\n",
    "input_fn=tf.estimator.inputs.numpy_input_fn({\"x\": x_train}, y_train, batch_size=4, num_epochs=None, shuffle=True)"
   ]
  },
  {
   "cell_type": "code",
   "execution_count": 14,
   "metadata": {
    "collapsed": true
   },
   "outputs": [],
   "source": [
    "train_input_fn = tf.estimator.inputs.numpy_input_fn(\n",
    "    {\"x\": x_train}, y_train, batch_size=4, num_epochs=1000, shuffle=False)\n",
    "eval_input_fn = tf.estimator.inputs.numpy_input_fn(\n",
    "    {\"x\": x_eval}, y_eval, batch_size=4, num_epochs=1000, shuffle=False)\n"
   ]
  },
  {
   "cell_type": "code",
   "execution_count": 15,
   "metadata": {
    "collapsed": false
   },
   "outputs": [
    {
     "name": "stdout",
     "output_type": "stream",
     "text": [
      "INFO:tensorflow:Create CheckpointSaverHook.\n",
      "INFO:tensorflow:Saving checkpoints for 1 into C:\\Users\\SREENATH\\AppData\\Local\\Temp\\tmp9kvdgflt\\model.ckpt.\n",
      "INFO:tensorflow:step = 1, loss = 14.0\n",
      "INFO:tensorflow:global_step/sec: 799.552\n",
      "INFO:tensorflow:step = 101, loss = 0.205698 (0.141 sec)\n",
      "INFO:tensorflow:global_step/sec: 740.449\n",
      "INFO:tensorflow:step = 201, loss = 0.056755 (0.119 sec)\n",
      "INFO:tensorflow:global_step/sec: 797.489\n",
      "INFO:tensorflow:step = 301, loss = 0.00472396 (0.125 sec)\n",
      "INFO:tensorflow:global_step/sec: 860.69\n",
      "INFO:tensorflow:step = 401, loss = 0.00102679 (0.116 sec)\n",
      "INFO:tensorflow:global_step/sec: 794.844\n",
      "INFO:tensorflow:step = 501, loss = 0.000377659 (0.126 sec)\n",
      "INFO:tensorflow:global_step/sec: 853.693\n",
      "INFO:tensorflow:step = 601, loss = 2.73171e-05 (0.117 sec)\n",
      "INFO:tensorflow:global_step/sec: 804.269\n",
      "INFO:tensorflow:step = 701, loss = 5.92962e-06 (0.124 sec)\n",
      "INFO:tensorflow:global_step/sec: 751.577\n",
      "INFO:tensorflow:step = 801, loss = 1.6647e-06 (0.135 sec)\n",
      "INFO:tensorflow:global_step/sec: 768.679\n",
      "INFO:tensorflow:step = 901, loss = 2.08648e-07 (0.130 sec)\n",
      "INFO:tensorflow:Saving checkpoints for 1000 into C:\\Users\\SREENATH\\AppData\\Local\\Temp\\tmp9kvdgflt\\model.ckpt.\n",
      "INFO:tensorflow:Loss for final step: 3.61704e-08.\n"
     ]
    },
    {
     "data": {
      "text/plain": [
       "<tensorflow.python.estimator.canned.linear.LinearRegressor at 0x193c4769c18>"
      ]
     },
     "execution_count": 15,
     "metadata": {},
     "output_type": "execute_result"
    }
   ],
   "source": [
    "regressor.train(input_fn=input_fn,steps=1000)"
   ]
  },
  {
   "cell_type": "code",
   "execution_count": 17,
   "metadata": {
    "collapsed": false
   },
   "outputs": [
    {
     "name": "stdout",
     "output_type": "stream",
     "text": [
      "INFO:tensorflow:Starting evaluation at 2017-12-17-05:54:10\n",
      "INFO:tensorflow:Restoring parameters from C:\\Users\\SREENATH\\AppData\\Local\\Temp\\tmp9kvdgflt\\model.ckpt-1000\n",
      "INFO:tensorflow:Finished evaluation at 2017-12-17-05:54:11\n",
      "INFO:tensorflow:Saving dict for global step 1000: average_loss = 1.02939e-08, global_step = 1000, loss = 4.11757e-08\n",
      "train metrics: {'loss': 4.1175664e-08, 'global_step': 1000, 'average_loss': 1.0293916e-08}\n"
     ]
    }
   ],
   "source": [
    "# Here we evaluate how well our model did.\n",
    "train_metrics = regressor.evaluate(input_fn=train_input_fn)\n",
    "print(\"train metrics: %r\"% train_metrics)"
   ]
  },
  {
   "cell_type": "code",
   "execution_count": 18,
   "metadata": {
    "collapsed": false
   },
   "outputs": [
    {
     "name": "stdout",
     "output_type": "stream",
     "text": [
      "INFO:tensorflow:Starting evaluation at 2017-12-17-05:54:41\n",
      "INFO:tensorflow:Restoring parameters from C:\\Users\\SREENATH\\AppData\\Local\\Temp\\tmp9kvdgflt\\model.ckpt-1000\n",
      "INFO:tensorflow:Finished evaluation at 2017-12-17-05:54:43\n",
      "INFO:tensorflow:Saving dict for global step 1000: average_loss = 0.00253344, global_step = 1000, loss = 0.0101338\n",
      "eval metrics: {'loss': 0.010133768, 'global_step': 1000, 'average_loss': 0.0025334419}\n"
     ]
    }
   ],
   "source": [
    "eval_metrics = regressor.evaluate(input_fn=eval_input_fn)\n",
    "print(\"eval metrics: %r\"% eval_metrics)"
   ]
  },
  {
   "cell_type": "markdown",
   "metadata": {},
   "source": [
    "# In custom estimators we are building the model function ourself only"
   ]
  },
  {
   "cell_type": "code",
   "execution_count": 29,
   "metadata": {
    "collapsed": false
   },
   "outputs": [],
   "source": [
    "def model_fun(features,labels,mode):\n",
    "    # Build a linear model and predict values\n",
    "    W = tf.get_variable(\"W\", [1], dtype=tf.float64)\n",
    "    b = tf.get_variable(\"b\", [1], dtype=tf.float64)\n",
    "    y = W*features['x'] + b\n",
    "    # Loss sub-graph\n",
    "    loss = tf.reduce_sum(tf.square(y - labels))\n",
    "    # Training sub-graph\n",
    "    global_step = tf.train.get_global_step()\n",
    "    optimizer = tf.train.GradientDescentOptimizer(0.01)\n",
    "    train = tf.group(optimizer.minimize(loss),\n",
    "                   tf.assign_add(global_step, 1))\n",
    "    # EstimatorSpec connects subgraphs we built to the\n",
    "    # appropriate functionality.\n",
    "    return tf.estimator.EstimatorSpec(\n",
    "      mode=mode,\n",
    "      predictions=y,\n",
    "      loss=loss,\n",
    "      train_op=train)"
   ]
  },
  {
   "cell_type": "code",
   "execution_count": 31,
   "metadata": {
    "collapsed": false
   },
   "outputs": [
    {
     "name": "stdout",
     "output_type": "stream",
     "text": [
      "INFO:tensorflow:Using default config.\n",
      "WARNING:tensorflow:Using temporary folder as model directory: C:\\Users\\SREENATH\\AppData\\Local\\Temp\\tmpaf3d2i8_\n",
      "INFO:tensorflow:Using config: {'_save_summary_steps': 100, '_tf_random_seed': 1, '_save_checkpoints_steps': None, '_save_checkpoints_secs': 600, '_keep_checkpoint_max': 5, '_log_step_count_steps': 100, '_model_dir': 'C:\\\\Users\\\\SREENATH\\\\AppData\\\\Local\\\\Temp\\\\tmpaf3d2i8_', '_keep_checkpoint_every_n_hours': 10000, '_session_config': None}\n"
     ]
    }
   ],
   "source": [
    "estimator = tf.estimator.Estimator(model_fn=model_fun)"
   ]
  },
  {
   "cell_type": "code",
   "execution_count": 32,
   "metadata": {
    "collapsed": false
   },
   "outputs": [
    {
     "name": "stdout",
     "output_type": "stream",
     "text": [
      "INFO:tensorflow:Create CheckpointSaverHook.\n",
      "INFO:tensorflow:Saving checkpoints for 1 into C:\\Users\\SREENATH\\AppData\\Local\\Temp\\tmpaf3d2i8_\\model.ckpt.\n",
      "INFO:tensorflow:step = 1, loss = 16.3362220696\n",
      "INFO:tensorflow:global_step/sec: 682.228\n",
      "INFO:tensorflow:step = 101, loss = 0.042222369076 (0.148 sec)\n",
      "INFO:tensorflow:global_step/sec: 854.089\n",
      "INFO:tensorflow:step = 201, loss = 0.0057350896855 (0.117 sec)\n",
      "INFO:tensorflow:global_step/sec: 825.86\n",
      "INFO:tensorflow:step = 301, loss = 0.000167320064898 (0.121 sec)\n",
      "INFO:tensorflow:global_step/sec: 825.855\n",
      "INFO:tensorflow:step = 401, loss = 5.27947602925e-06 (0.120 sec)\n",
      "INFO:tensorflow:global_step/sec: 799.428\n",
      "INFO:tensorflow:step = 501, loss = 2.47174680156e-06 (0.126 sec)\n",
      "INFO:tensorflow:global_step/sec: 799.431\n",
      "INFO:tensorflow:step = 601, loss = 7.87427250829e-08 (0.125 sec)\n",
      "INFO:tensorflow:global_step/sec: 825.847\n",
      "INFO:tensorflow:step = 701, loss = 2.15164175898e-08 (0.121 sec)\n",
      "INFO:tensorflow:global_step/sec: 571.025\n",
      "INFO:tensorflow:step = 801, loss = 3.19210951891e-09 (0.176 sec)\n",
      "INFO:tensorflow:global_step/sec: 515.096\n",
      "INFO:tensorflow:step = 901, loss = 1.58333037833e-10 (0.196 sec)\n",
      "INFO:tensorflow:Saving checkpoints for 1000 into C:\\Users\\SREENATH\\AppData\\Local\\Temp\\tmpaf3d2i8_\\model.ckpt.\n",
      "INFO:tensorflow:Loss for final step: 1.8995657289e-11.\n",
      "INFO:tensorflow:Starting evaluation at 2017-12-17-06:11:52\n",
      "INFO:tensorflow:Restoring parameters from C:\\Users\\SREENATH\\AppData\\Local\\Temp\\tmpaf3d2i8_\\model.ckpt-1000\n",
      "INFO:tensorflow:Finished evaluation at 2017-12-17-06:11:53\n",
      "INFO:tensorflow:Saving dict for global step 1000: global_step = 1000, loss = 1.45787e-11\n",
      "INFO:tensorflow:Starting evaluation at 2017-12-17-06:11:54\n",
      "INFO:tensorflow:Restoring parameters from C:\\Users\\SREENATH\\AppData\\Local\\Temp\\tmpaf3d2i8_\\model.ckpt-1000\n",
      "INFO:tensorflow:Finished evaluation at 2017-12-17-06:11:55\n",
      "INFO:tensorflow:Saving dict for global step 1000: global_step = 1000, loss = 0.0101004\n",
      "train metrics: {'loss': 1.4578734e-11, 'global_step': 1000}\n",
      "eval metrics: {'loss': 0.010100436, 'global_step': 1000}\n"
     ]
    }
   ],
   "source": [
    "# train\n",
    "estimator.train(input_fn=input_fn, steps=1000)\n",
    "# Here we evaluate how well our model did.\n",
    "train_metrics = estimator.evaluate(input_fn=train_input_fn)\n",
    "eval_metrics = estimator.evaluate(input_fn=eval_input_fn)\n",
    "print(\"train metrics: %r\"% train_metrics)\n",
    "print(\"eval metrics: %r\"% eval_metrics)"
   ]
  },
  {
   "cell_type": "code",
   "execution_count": null,
   "metadata": {
    "collapsed": true
   },
   "outputs": [],
   "source": []
  }
 ],
 "metadata": {
  "anaconda-cloud": {},
  "kernelspec": {
   "display_name": "Python [conda root]",
   "language": "python",
   "name": "conda-root-py"
  },
  "language_info": {
   "codemirror_mode": {
    "name": "ipython",
    "version": 3
   },
   "file_extension": ".py",
   "mimetype": "text/x-python",
   "name": "python",
   "nbconvert_exporter": "python",
   "pygments_lexer": "ipython3",
   "version": "3.5.2"
  }
 },
 "nbformat": 4,
 "nbformat_minor": 1
}
