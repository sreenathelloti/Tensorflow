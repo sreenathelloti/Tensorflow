{
 "cells": [
  {
   "cell_type": "code",
   "execution_count": 1,
   "metadata": {
    "collapsed": true
   },
   "outputs": [],
   "source": [
    "import pandas as pd\n",
    "import tensorflow as tf"
   ]
  },
  {
   "cell_type": "code",
   "execution_count": 8,
   "metadata": {
    "collapsed": true
   },
   "outputs": [],
   "source": [
    "COLUMNS = [\"crim\", \"zn\", \"indus\", \"nox\", \"rm\", \"age\",\n",
    "           \"dis\", \"tax\", \"ptratio\", \"medv\"]\n",
    "FEATURES = [\"crim\", \"zn\", \"indus\", \"nox\", \"rm\",\n",
    "            \"age\", \"dis\", \"tax\", \"ptratio\"]\n",
    "LABEL = \"medv\""
   ]
  },
  {
   "cell_type": "code",
   "execution_count": 9,
   "metadata": {
    "collapsed": true
   },
   "outputs": [],
   "source": [
    "training_set = pd.read_csv(\"boston_train.csv\", skipinitialspace=True,\n",
    "                           skiprows=1, names=COLUMNS)"
   ]
  },
  {
   "cell_type": "code",
   "execution_count": 11,
   "metadata": {
    "collapsed": false
   },
   "outputs": [
    {
     "data": {
      "text/html": [
       "<div>\n",
       "<table border=\"1\" class=\"dataframe\">\n",
       "  <thead>\n",
       "    <tr style=\"text-align: right;\">\n",
       "      <th></th>\n",
       "      <th>crim</th>\n",
       "      <th>zn</th>\n",
       "      <th>indus</th>\n",
       "      <th>nox</th>\n",
       "      <th>rm</th>\n",
       "      <th>age</th>\n",
       "      <th>dis</th>\n",
       "      <th>tax</th>\n",
       "      <th>ptratio</th>\n",
       "      <th>medv</th>\n",
       "    </tr>\n",
       "  </thead>\n",
       "  <tbody>\n",
       "    <tr>\n",
       "      <th>0</th>\n",
       "      <td>2.30040</td>\n",
       "      <td>0.0</td>\n",
       "      <td>19.58</td>\n",
       "      <td>0.605</td>\n",
       "      <td>6.319</td>\n",
       "      <td>96.1</td>\n",
       "      <td>2.1000</td>\n",
       "      <td>403</td>\n",
       "      <td>14.7</td>\n",
       "      <td>23.8</td>\n",
       "    </tr>\n",
       "    <tr>\n",
       "      <th>1</th>\n",
       "      <td>13.35980</td>\n",
       "      <td>0.0</td>\n",
       "      <td>18.10</td>\n",
       "      <td>0.693</td>\n",
       "      <td>5.887</td>\n",
       "      <td>94.7</td>\n",
       "      <td>1.7821</td>\n",
       "      <td>666</td>\n",
       "      <td>20.2</td>\n",
       "      <td>12.7</td>\n",
       "    </tr>\n",
       "    <tr>\n",
       "      <th>2</th>\n",
       "      <td>0.12744</td>\n",
       "      <td>0.0</td>\n",
       "      <td>6.91</td>\n",
       "      <td>0.448</td>\n",
       "      <td>6.770</td>\n",
       "      <td>2.9</td>\n",
       "      <td>5.7209</td>\n",
       "      <td>233</td>\n",
       "      <td>17.9</td>\n",
       "      <td>26.6</td>\n",
       "    </tr>\n",
       "    <tr>\n",
       "      <th>3</th>\n",
       "      <td>0.15876</td>\n",
       "      <td>0.0</td>\n",
       "      <td>10.81</td>\n",
       "      <td>0.413</td>\n",
       "      <td>5.961</td>\n",
       "      <td>17.5</td>\n",
       "      <td>5.2873</td>\n",
       "      <td>305</td>\n",
       "      <td>19.2</td>\n",
       "      <td>21.7</td>\n",
       "    </tr>\n",
       "    <tr>\n",
       "      <th>4</th>\n",
       "      <td>0.03768</td>\n",
       "      <td>80.0</td>\n",
       "      <td>1.52</td>\n",
       "      <td>0.404</td>\n",
       "      <td>7.274</td>\n",
       "      <td>38.3</td>\n",
       "      <td>7.3090</td>\n",
       "      <td>329</td>\n",
       "      <td>12.6</td>\n",
       "      <td>34.6</td>\n",
       "    </tr>\n",
       "  </tbody>\n",
       "</table>\n",
       "</div>"
      ],
      "text/plain": [
       "       crim    zn  indus    nox     rm   age     dis  tax  ptratio  medv\n",
       "0   2.30040   0.0  19.58  0.605  6.319  96.1  2.1000  403     14.7  23.8\n",
       "1  13.35980   0.0  18.10  0.693  5.887  94.7  1.7821  666     20.2  12.7\n",
       "2   0.12744   0.0   6.91  0.448  6.770   2.9  5.7209  233     17.9  26.6\n",
       "3   0.15876   0.0  10.81  0.413  5.961  17.5  5.2873  305     19.2  21.7\n",
       "4   0.03768  80.0   1.52  0.404  7.274  38.3  7.3090  329     12.6  34.6"
      ]
     },
     "execution_count": 11,
     "metadata": {},
     "output_type": "execute_result"
    }
   ],
   "source": [
    "training_set.head()"
   ]
  },
  {
   "cell_type": "code",
   "execution_count": 12,
   "metadata": {
    "collapsed": true
   },
   "outputs": [],
   "source": [
    "test_set = pd.read_csv(\"boston_test.csv\", skipinitialspace=True,\n",
    "                       skiprows=1, names=COLUMNS)\n",
    "prediction_set = pd.read_csv(\"boston_predict.csv\", skipinitialspace=True,\n",
    "                             skiprows=1, names=COLUMNS)"
   ]
  },
  {
   "cell_type": "code",
   "execution_count": 13,
   "metadata": {
    "collapsed": true
   },
   "outputs": [],
   "source": [
    "feature_cols = [tf.feature_column.numeric_column(k) for k in FEATURES]\n"
   ]
  },
  {
   "cell_type": "code",
   "execution_count": 17,
   "metadata": {
    "collapsed": false
   },
   "outputs": [
    {
     "data": {
      "text/plain": [
       "[_NumericColumn(key='crim', shape=(1,), default_value=None, dtype=tf.float32, normalizer_fn=None),\n",
       " _NumericColumn(key='zn', shape=(1,), default_value=None, dtype=tf.float32, normalizer_fn=None),\n",
       " _NumericColumn(key='indus', shape=(1,), default_value=None, dtype=tf.float32, normalizer_fn=None),\n",
       " _NumericColumn(key='nox', shape=(1,), default_value=None, dtype=tf.float32, normalizer_fn=None),\n",
       " _NumericColumn(key='rm', shape=(1,), default_value=None, dtype=tf.float32, normalizer_fn=None),\n",
       " _NumericColumn(key='age', shape=(1,), default_value=None, dtype=tf.float32, normalizer_fn=None),\n",
       " _NumericColumn(key='dis', shape=(1,), default_value=None, dtype=tf.float32, normalizer_fn=None),\n",
       " _NumericColumn(key='tax', shape=(1,), default_value=None, dtype=tf.float32, normalizer_fn=None),\n",
       " _NumericColumn(key='ptratio', shape=(1,), default_value=None, dtype=tf.float32, normalizer_fn=None)]"
      ]
     },
     "execution_count": 17,
     "metadata": {},
     "output_type": "execute_result"
    }
   ],
   "source": [
    "feature_cols"
   ]
  },
  {
   "cell_type": "code",
   "execution_count": 18,
   "metadata": {
    "collapsed": false
   },
   "outputs": [
    {
     "name": "stdout",
     "output_type": "stream",
     "text": [
      "INFO:tensorflow:Using default config.\n",
      "INFO:tensorflow:Using config: {'_save_checkpoints_steps': None, '_session_config': None, '_save_summary_steps': 100, '_keep_checkpoint_every_n_hours': 10000, '_save_checkpoints_secs': 600, '_keep_checkpoint_max': 5, '_model_dir': '/tmp/boston_model', '_tf_random_seed': 1, '_log_step_count_steps': 100}\n"
     ]
    }
   ],
   "source": [
    "regressor = tf.estimator.DNNRegressor(feature_columns=feature_cols,\n",
    "                                      hidden_units=[10, 10],\n",
    "                                      model_dir=\"/tmp/boston_model\")"
   ]
  },
  {
   "cell_type": "code",
   "execution_count": 23,
   "metadata": {
    "collapsed": true
   },
   "outputs": [],
   "source": [
    "def get_input_fn(data_set, num_epochs=None, shuffle=True):\n",
    "    return tf.estimator.inputs.pandas_input_fn(\n",
    "      x=pd.DataFrame({k: data_set[k].values for k in FEATURES}),\n",
    "      y = pd.Series(data_set[LABEL].values),\n",
    "      num_epochs=num_epochs,\n",
    "      shuffle=shuffle)"
   ]
  },
  {
   "cell_type": "code",
   "execution_count": 24,
   "metadata": {
    "collapsed": false
   },
   "outputs": [
    {
     "ename": "NameError",
     "evalue": "name 'data_set' is not defined",
     "output_type": "error",
     "traceback": [
      "\u001b[0;31m---------------------------------------------------------------------------\u001b[0m",
      "\u001b[0;31mNameError\u001b[0m                                 Traceback (most recent call last)",
      "\u001b[0;32m<ipython-input-24-2e24d263bc50>\u001b[0m in \u001b[0;36m<module>\u001b[0;34m()\u001b[0m\n\u001b[0;32m----> 1\u001b[0;31m \u001b[0mx\u001b[0m\u001b[1;33m=\u001b[0m\u001b[0mpd\u001b[0m\u001b[1;33m.\u001b[0m\u001b[0mDataFrame\u001b[0m\u001b[1;33m(\u001b[0m\u001b[1;33m{\u001b[0m\u001b[0mk\u001b[0m\u001b[1;33m:\u001b[0m \u001b[0mdata_set\u001b[0m\u001b[1;33m[\u001b[0m\u001b[0mk\u001b[0m\u001b[1;33m]\u001b[0m\u001b[1;33m.\u001b[0m\u001b[0mvalues\u001b[0m \u001b[1;32mfor\u001b[0m \u001b[0mk\u001b[0m \u001b[1;32min\u001b[0m \u001b[0mFEATURES\u001b[0m\u001b[1;33m}\u001b[0m\u001b[1;33m)\u001b[0m\u001b[1;33m\u001b[0m\u001b[0m\n\u001b[0m",
      "\u001b[0;32m<ipython-input-24-2e24d263bc50>\u001b[0m in \u001b[0;36m<dictcomp>\u001b[0;34m(.0)\u001b[0m\n\u001b[0;32m----> 1\u001b[0;31m \u001b[0mx\u001b[0m\u001b[1;33m=\u001b[0m\u001b[0mpd\u001b[0m\u001b[1;33m.\u001b[0m\u001b[0mDataFrame\u001b[0m\u001b[1;33m(\u001b[0m\u001b[1;33m{\u001b[0m\u001b[0mk\u001b[0m\u001b[1;33m:\u001b[0m \u001b[0mdata_set\u001b[0m\u001b[1;33m[\u001b[0m\u001b[0mk\u001b[0m\u001b[1;33m]\u001b[0m\u001b[1;33m.\u001b[0m\u001b[0mvalues\u001b[0m \u001b[1;32mfor\u001b[0m \u001b[0mk\u001b[0m \u001b[1;32min\u001b[0m \u001b[0mFEATURES\u001b[0m\u001b[1;33m}\u001b[0m\u001b[1;33m)\u001b[0m\u001b[1;33m\u001b[0m\u001b[0m\n\u001b[0m",
      "\u001b[0;31mNameError\u001b[0m: name 'data_set' is not defined"
     ]
    }
   ],
   "source": [
    "x=pd.DataFrame({k: data_set[k].values for k in FEATURES})"
   ]
  },
  {
   "cell_type": "code",
   "execution_count": 21,
   "metadata": {
    "collapsed": false
   },
   "outputs": [
    {
     "name": "stdout",
     "output_type": "stream",
     "text": [
      "INFO:tensorflow:Create CheckpointSaverHook.\n",
      "INFO:tensorflow:Saving checkpoints for 1 into /tmp/boston_model\\model.ckpt.\n",
      "INFO:tensorflow:step = 1, loss = 53510.4\n",
      "INFO:tensorflow:global_step/sec: 216.272\n",
      "INFO:tensorflow:step = 101, loss = 11346.5 (0.455 sec)\n",
      "INFO:tensorflow:global_step/sec: 197.454\n",
      "INFO:tensorflow:step = 201, loss = 10024.8 (0.516 sec)\n",
      "INFO:tensorflow:global_step/sec: 174.092\n",
      "INFO:tensorflow:step = 301, loss = 10889.1 (0.571 sec)\n",
      "INFO:tensorflow:global_step/sec: 207.321\n",
      "INFO:tensorflow:step = 401, loss = 9107.59 (0.480 sec)\n",
      "INFO:tensorflow:global_step/sec: 234.026\n",
      "INFO:tensorflow:step = 501, loss = 8862.25 (0.426 sec)\n",
      "INFO:tensorflow:global_step/sec: 238.973\n",
      "INFO:tensorflow:step = 601, loss = 6126.44 (0.414 sec)\n",
      "INFO:tensorflow:global_step/sec: 238.809\n",
      "INFO:tensorflow:step = 701, loss = 8194.38 (0.419 sec)\n",
      "INFO:tensorflow:global_step/sec: 238.317\n",
      "INFO:tensorflow:step = 801, loss = 5959.15 (0.420 sec)\n",
      "INFO:tensorflow:global_step/sec: 238.839\n",
      "INFO:tensorflow:step = 901, loss = 6218.25 (0.434 sec)\n",
      "INFO:tensorflow:global_step/sec: 233.561\n",
      "INFO:tensorflow:step = 1001, loss = 9964.53 (0.429 sec)\n",
      "INFO:tensorflow:global_step/sec: 169.507\n",
      "INFO:tensorflow:step = 1101, loss = 8208.64 (0.577 sec)\n",
      "INFO:tensorflow:global_step/sec: 173.796\n",
      "INFO:tensorflow:step = 1201, loss = 4757.68 (0.576 sec)\n",
      "INFO:tensorflow:global_step/sec: 219.624\n",
      "INFO:tensorflow:step = 1301, loss = 5525.56 (0.454 sec)\n",
      "INFO:tensorflow:global_step/sec: 223.996\n",
      "INFO:tensorflow:step = 1401, loss = 4804.48 (0.446 sec)\n",
      "INFO:tensorflow:global_step/sec: 223.704\n",
      "INFO:tensorflow:step = 1501, loss = 6793.04 (0.450 sec)\n",
      "INFO:tensorflow:global_step/sec: 222.34\n",
      "INFO:tensorflow:step = 1601, loss = 6654.07 (0.447 sec)\n",
      "INFO:tensorflow:global_step/sec: 173.125\n",
      "INFO:tensorflow:step = 1701, loss = 4750.54 (0.574 sec)\n",
      "INFO:tensorflow:global_step/sec: 227.686\n",
      "INFO:tensorflow:step = 1801, loss = 5872.12 (0.439 sec)\n",
      "INFO:tensorflow:global_step/sec: 237.169\n",
      "INFO:tensorflow:step = 1901, loss = 6262.55 (0.437 sec)\n",
      "INFO:tensorflow:global_step/sec: 234.844\n",
      "INFO:tensorflow:step = 2001, loss = 8777.68 (0.426 sec)\n",
      "INFO:tensorflow:global_step/sec: 224.511\n",
      "INFO:tensorflow:step = 2101, loss = 5958.56 (0.430 sec)\n",
      "INFO:tensorflow:global_step/sec: 191.272\n",
      "INFO:tensorflow:step = 2201, loss = 3671.85 (0.534 sec)\n",
      "INFO:tensorflow:global_step/sec: 171.778\n",
      "INFO:tensorflow:step = 2301, loss = 6189.24 (0.571 sec)\n",
      "INFO:tensorflow:global_step/sec: 236\n",
      "INFO:tensorflow:step = 2401, loss = 7156.63 (0.424 sec)\n",
      "INFO:tensorflow:global_step/sec: 146.371\n",
      "INFO:tensorflow:step = 2501, loss = 6560.15 (0.692 sec)\n",
      "INFO:tensorflow:global_step/sec: 147.605\n",
      "INFO:tensorflow:step = 2601, loss = 8059.23 (0.672 sec)\n",
      "INFO:tensorflow:global_step/sec: 240.965\n",
      "INFO:tensorflow:step = 2701, loss = 6247.83 (0.427 sec)\n",
      "INFO:tensorflow:global_step/sec: 223.597\n",
      "INFO:tensorflow:step = 2801, loss = 2903.16 (0.438 sec)\n",
      "INFO:tensorflow:global_step/sec: 201.064\n",
      "INFO:tensorflow:step = 2901, loss = 3949.45 (0.495 sec)\n",
      "INFO:tensorflow:global_step/sec: 222.937\n",
      "INFO:tensorflow:step = 3001, loss = 4513.02 (0.460 sec)\n",
      "INFO:tensorflow:global_step/sec: 191.231\n",
      "INFO:tensorflow:step = 3101, loss = 4014.78 (0.511 sec)\n",
      "INFO:tensorflow:global_step/sec: 229.309\n",
      "INFO:tensorflow:step = 3201, loss = 4057.83 (0.448 sec)\n",
      "INFO:tensorflow:global_step/sec: 228.811\n",
      "INFO:tensorflow:step = 3301, loss = 3282.46 (0.426 sec)\n",
      "INFO:tensorflow:global_step/sec: 233.27\n",
      "INFO:tensorflow:step = 3401, loss = 5509.15 (0.424 sec)\n",
      "INFO:tensorflow:global_step/sec: 238.811\n",
      "INFO:tensorflow:step = 3501, loss = 4386.6 (0.419 sec)\n",
      "INFO:tensorflow:global_step/sec: 242.004\n",
      "INFO:tensorflow:step = 3601, loss = 7663.15 (0.413 sec)\n",
      "INFO:tensorflow:global_step/sec: 237.037\n",
      "INFO:tensorflow:step = 3701, loss = 3225.46 (0.422 sec)\n",
      "INFO:tensorflow:global_step/sec: 233.336\n",
      "INFO:tensorflow:step = 3801, loss = 5427.55 (0.435 sec)\n",
      "INFO:tensorflow:global_step/sec: 242.752\n",
      "INFO:tensorflow:step = 3901, loss = 6447.19 (0.406 sec)\n",
      "INFO:tensorflow:global_step/sec: 246.15\n",
      "INFO:tensorflow:step = 4001, loss = 4226.25 (0.422 sec)\n",
      "INFO:tensorflow:global_step/sec: 228.401\n",
      "INFO:tensorflow:step = 4101, loss = 4188.61 (0.422 sec)\n",
      "INFO:tensorflow:global_step/sec: 244.669\n",
      "INFO:tensorflow:step = 4201, loss = 4406.02 (0.424 sec)\n",
      "INFO:tensorflow:global_step/sec: 231.657\n",
      "INFO:tensorflow:step = 4301, loss = 3606.79 (0.416 sec)\n",
      "INFO:tensorflow:global_step/sec: 240.529\n",
      "INFO:tensorflow:step = 4401, loss = 5061.43 (0.416 sec)\n",
      "INFO:tensorflow:global_step/sec: 242.508\n",
      "INFO:tensorflow:step = 4501, loss = 3568.27 (0.412 sec)\n",
      "INFO:tensorflow:global_step/sec: 238.748\n",
      "INFO:tensorflow:step = 4601, loss = 4377.0 (0.419 sec)\n",
      "INFO:tensorflow:global_step/sec: 240.681\n",
      "INFO:tensorflow:step = 4701, loss = 5428.83 (0.415 sec)\n",
      "INFO:tensorflow:global_step/sec: 232.048\n",
      "INFO:tensorflow:step = 4801, loss = 5828.19 (0.447 sec)\n",
      "INFO:tensorflow:global_step/sec: 227.361\n",
      "INFO:tensorflow:step = 4901, loss = 6299.39 (0.431 sec)\n",
      "INFO:tensorflow:Saving checkpoints for 5000 into /tmp/boston_model\\model.ckpt.\n",
      "INFO:tensorflow:Loss for final step: 4078.15.\n"
     ]
    },
    {
     "data": {
      "text/plain": [
       "<tensorflow.python.estimator.canned.dnn.DNNRegressor at 0x2858035d5f8>"
      ]
     },
     "execution_count": 21,
     "metadata": {},
     "output_type": "execute_result"
    }
   ],
   "source": [
    "regressor.train(input_fn=get_input_fn(training_set), steps=5000)"
   ]
  },
  {
   "cell_type": "code",
   "execution_count": null,
   "metadata": {
    "collapsed": true
   },
   "outputs": [],
   "source": []
  }
 ],
 "metadata": {
  "kernelspec": {
   "display_name": "Python [default]",
   "language": "python",
   "name": "python3"
  },
  "language_info": {
   "codemirror_mode": {
    "name": "ipython",
    "version": 3
   },
   "file_extension": ".py",
   "mimetype": "text/x-python",
   "name": "python",
   "nbconvert_exporter": "python",
   "pygments_lexer": "ipython3",
   "version": "3.5.2"
  }
 },
 "nbformat": 4,
 "nbformat_minor": 1
}
